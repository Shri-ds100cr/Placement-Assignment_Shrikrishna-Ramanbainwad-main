{
 "cells": [
  {
   "attachments": {},
   "cell_type": "markdown",
   "metadata": {},
   "source": [
    "### Q-1. A university wants to understand the relationship between the SAT scores of its applicants and their college GPA. They collect data on 500 students, including their SAT scores (out of 1600) and their college GPA (on a 4.0 scale). They find that the correlation coefficient between SAT scores and college GPA is 0.7. What does this correlation coefficient indicate about the relationship between SAT scores and college GPA?\n",
    "\n",
    "**ANS:-** \n",
    "#### A correlation coefficient of 0.7 between SAT scores and college GPA indicates a strong positive relationship between the two variables.\n",
    "#### The correlation coefficient ranges from -1 to 1, where 1 represents a perfect positive correlation, 0 represents no correlation, and -1 represents a perfect negative correlation.\n",
    "#### In this case, a correlation coefficient of 0.7 suggests a strong positive correlation, indicating that as SAT scores increase, college GPA tends to increase as well. The positive sign indicates that higher SAT scores are associated with higher college GPAs. "
   ]
  },
  {
   "attachments": {},
   "cell_type": "markdown",
   "metadata": {},
   "source": [
    "### Q-2. Consider a dataset containing the heights (in centimeters) of 1000 individuals. The mean height is 170 cm with a standard deviation of 10 cm. The dataset is approximately normally distributed, and its skewness is approximately zero. Based on this information, answer the following questions:\n",
    "* a. What percentage of individuals in the dataset have heights between 160 cm and 180 cm?\n",
    "* b. If we randomly select 100 individuals from the dataset, what is the probability that their average height is greater than 175 cm?\n",
    "* c. Assuming the dataset follows a normal distribution, what is the z-score corresponding to a height of 185 cm?\n",
    "* d. We know that 5% of the dataset has heights below a certain value. What is the approximate height corresponding to this threshold?\n",
    "* e. Calculate the coefficient of variation (CV) for the dataset.\n",
    "* f. Calculate the skewness of the dataset and interpret the result.<br>\n",
    "\n",
    "**ANS:-** \n",
    "\n",
    "* a. To find the percentage of individuals in the dataset with heights between 160 cm and 180 cm, we can use the empirical rule (also known as the 68-95-99.7 rule) for normally distributed data.\n",
    "According to the empirical rule, approximately 68% of the data falls within one standard deviation of the mean, 95% falls within two standard deviations, and 99.7% falls within three standard deviations.\n",
    "Therefore, approximately 68% of individuals in the dataset have heights between 160 cm and 180 cm."
   ]
  },
  {
   "cell_type": "code",
   "execution_count": 2,
   "metadata": {},
   "outputs": [
    {
     "name": "stdout",
     "output_type": "stream",
     "text": [
      "68.26894921370858\n"
     ]
    }
   ],
   "source": [
    "from scipy.stats import norm\n",
    "\n",
    "#Given\n",
    "mean = 170\n",
    "std = 10\n",
    "\n",
    "percentage = norm.cdf(180, loc=mean, scale=std) - norm.cdf(160, loc=mean, scale=std)\n",
    "percentage *= 100\n",
    "\n",
    "print(percentage)"
   ]
  },
  {
   "attachments": {},
   "cell_type": "markdown",
   "metadata": {},
   "source": [
    "*  b. The population mean height is 170 cm and the standard deviation is 10 cm, the mean of the sample means will still be 170 cm, but the standard deviation of the sample means (also known as the standard error) will be the population standard deviation divided by the square root of the sample size.\n",
    "Let's assume that the population standard deviation remains the same for the sample means. Then, the standard error for the sample means is 10 cm / √100 = 1 cm.\n",
    "To calculate the probability that the average height is greater than 175 cm, we can standardize the value using the z-score formula and then use a standard normal distribution table or calculator.\n",
    "\n",
    "z = (x - μ) / σ\n",
    "z = (175 - 170) / 1\n",
    "z = 5\n",
    "\n",
    "The probability of a z-score greater than 5 is almost zero. Therefore, the probability that the average height of 100 randomly selected individuals is greater than 175 cm is very close to zero."
   ]
  },
  {
   "cell_type": "code",
   "execution_count": 3,
   "metadata": {},
   "outputs": [
    {
     "name": "stdout",
     "output_type": "stream",
     "text": [
      "0.0000\n"
     ]
    }
   ],
   "source": [
    "sample_size = 100\n",
    "mean_height = 170\n",
    "std_dev = 10\n",
    "\n",
    "sample_mean = mean_height\n",
    "sample_std_dev = std_dev / (sample_size ** 0.5)\n",
    "\n",
    "z_score = (175 - sample_mean) / sample_std_dev\n",
    "probability = 1 - norm.cdf(z_score)\n",
    "\n",
    "print(f'{probability:.4f}')"
   ]
  },
  {
   "attachments": {},
   "cell_type": "markdown",
   "metadata": {},
   "source": [
    "* c. To find the z-score corresponding to a height of 185 cm, we can use the z-score formula:\n",
    "\n",
    "z = (x - μ) / σ\n",
    "z = (185 - 170) / 10\n",
    "z = 1.5\n",
    "\n",
    "Therefore, the z-score corresponding to a height of 185 cm is 1.5."
   ]
  },
  {
   "cell_type": "code",
   "execution_count": 4,
   "metadata": {},
   "outputs": [
    {
     "name": "stdout",
     "output_type": "stream",
     "text": [
      "The z-score corresponding to a height of 185 cm is: 1.50\n"
     ]
    }
   ],
   "source": [
    "height = 185\n",
    "mean = 170\n",
    "std_dev = 10\n",
    "\n",
    "z_score = (height - mean) / std_dev\n",
    "\n",
    "print(f\"The z-score corresponding to a height of 185 cm is: {z_score:.2f}\")"
   ]
  },
  {
   "attachments": {},
   "cell_type": "markdown",
   "metadata": {},
   "source": [
    "* d. To find the approximate height corresponding to a threshold of 5% (or 0.05), we can use the z-score formula and the standard normal distribution table or calculator.\n",
    "For a one-tailed test with a significance level of 0.05, the z-score corresponding to this threshold is approximately -1.645.\n",
    "\n",
    "Using the z-score formula:\n",
    "z = (x - μ) / σ\n",
    "-1.645 = (x - 170) / 10\n",
    "\n",
    "Solving for x:\n",
    "x - 170 = -1.645 * 10\n",
    "x - 170 = -16.45\n",
    "x = 170 - 16.45\n",
    "x ≈ 153.55\n",
    "\n",
    "Therefore, the approximate height corresponding to the threshold of 5% is approximately 153.55 cm."
   ]
  },
  {
   "cell_type": "code",
   "execution_count": 5,
   "metadata": {},
   "outputs": [
    {
     "name": "stdout",
     "output_type": "stream",
     "text": [
      "153.55146373048527\n"
     ]
    }
   ],
   "source": [
    "mean = 170\n",
    "std = 10\n",
    "percentile = 5\n",
    "\n",
    "threshold = norm.ppf(percentile / 100, loc=mean, scale=std)\n",
    "\n",
    "print(threshold)"
   ]
  },
  {
   "attachments": {},
   "cell_type": "markdown",
   "metadata": {},
   "source": [
    "* e. The coefficient of variation (CV) is a measure of relative variability and is calculated as the ratio of the standard deviation to the mean, expressed as a percentage.\n",
    "\n",
    "CV = (standard deviation / mean) * 100\n",
    "\n",
    "In this case, the standard deviation is 10 cm and the mean is 170 cm.\n",
    "\n",
    "CV = (10 / 170) * 100\n",
    "CV ≈ 5.88\n",
    "\n",
    "Therefore, the coefficient of variation (CV) for the dataset is approximately 5.88%."
   ]
  },
  {
   "cell_type": "code",
   "execution_count": 6,
   "metadata": {},
   "outputs": [
    {
     "name": "stdout",
     "output_type": "stream",
     "text": [
      "5.88235294117647\n"
     ]
    }
   ],
   "source": [
    "mean = 170\n",
    "std = 10\n",
    "cv = (std / mean) * 100\n",
    "\n",
    "print(cv)"
   ]
  },
  {
   "attachments": {},
   "cell_type": "markdown",
   "metadata": {},
   "source": [
    "* f. The skewness of a dataset measures the asymmetry of its distribution. A skewness value of zero indicates a symmetric distribution.\n",
    "\n",
    "Since the dataset is stated to have an approximate skewness of zero, it suggests that the distribution of heights is symmetric, meaning there is no significant skewness. The data is likely to be evenly distributed around the mean without a pronounced tail on either side."
   ]
  },
  {
   "attachments": {},
   "cell_type": "markdown",
   "metadata": {},
   "source": [
    "### Q-3. Consider the ‘Blood Pressure Before’ and ‘Blood Pressure After’ columns from the data and calculate the following\n",
    "**a.** Measure the dispersion in both and interpret the results.<br>\n",
    "**b.** Calculate mean and 5% confidence interval and plot it in a graph<br>\n",
    "**c.** Calculate the Mean absolute deviation and Standard deviation and interpret the results.<br>\n",
    "**d.** Calculate the correlation coefficient and check the significance of it at 1% level of significance."
   ]
  },
  {
   "cell_type": "code",
   "execution_count": 7,
   "metadata": {},
   "outputs": [],
   "source": [
    "import numpy as np \n",
    "import pandas as pd"
   ]
  },
  {
   "cell_type": "code",
   "execution_count": 8,
   "metadata": {},
   "outputs": [
    {
     "data": {
      "text/html": [
       "<div>\n",
       "<style scoped>\n",
       "    .dataframe tbody tr th:only-of-type {\n",
       "        vertical-align: middle;\n",
       "    }\n",
       "\n",
       "    .dataframe tbody tr th {\n",
       "        vertical-align: top;\n",
       "    }\n",
       "\n",
       "    .dataframe thead th {\n",
       "        text-align: right;\n",
       "    }\n",
       "</style>\n",
       "<table border=\"1\" class=\"dataframe\">\n",
       "  <thead>\n",
       "    <tr style=\"text-align: right;\">\n",
       "      <th></th>\n",
       "      <th>Patient ID</th>\n",
       "      <th>Blood Pressure Before (mmHg)</th>\n",
       "      <th>Blood Pressure After (mmHg)</th>\n",
       "    </tr>\n",
       "  </thead>\n",
       "  <tbody>\n",
       "    <tr>\n",
       "      <th>0</th>\n",
       "      <td>1</td>\n",
       "      <td>130</td>\n",
       "      <td>120</td>\n",
       "    </tr>\n",
       "    <tr>\n",
       "      <th>1</th>\n",
       "      <td>2</td>\n",
       "      <td>142</td>\n",
       "      <td>135</td>\n",
       "    </tr>\n",
       "    <tr>\n",
       "      <th>2</th>\n",
       "      <td>3</td>\n",
       "      <td>120</td>\n",
       "      <td>118</td>\n",
       "    </tr>\n",
       "    <tr>\n",
       "      <th>3</th>\n",
       "      <td>4</td>\n",
       "      <td>135</td>\n",
       "      <td>127</td>\n",
       "    </tr>\n",
       "    <tr>\n",
       "      <th>4</th>\n",
       "      <td>5</td>\n",
       "      <td>148</td>\n",
       "      <td>140</td>\n",
       "    </tr>\n",
       "    <tr>\n",
       "      <th>...</th>\n",
       "      <td>...</td>\n",
       "      <td>...</td>\n",
       "      <td>...</td>\n",
       "    </tr>\n",
       "    <tr>\n",
       "      <th>95</th>\n",
       "      <td>96</td>\n",
       "      <td>136</td>\n",
       "      <td>129</td>\n",
       "    </tr>\n",
       "    <tr>\n",
       "      <th>96</th>\n",
       "      <td>97</td>\n",
       "      <td>143</td>\n",
       "      <td>137</td>\n",
       "    </tr>\n",
       "    <tr>\n",
       "      <th>97</th>\n",
       "      <td>98</td>\n",
       "      <td>127</td>\n",
       "      <td>123</td>\n",
       "    </tr>\n",
       "    <tr>\n",
       "      <th>98</th>\n",
       "      <td>99</td>\n",
       "      <td>139</td>\n",
       "      <td>135</td>\n",
       "    </tr>\n",
       "    <tr>\n",
       "      <th>99</th>\n",
       "      <td>100</td>\n",
       "      <td>135</td>\n",
       "      <td>130</td>\n",
       "    </tr>\n",
       "  </tbody>\n",
       "</table>\n",
       "<p>100 rows × 3 columns</p>\n",
       "</div>"
      ],
      "text/plain": [
       "    Patient ID   Blood Pressure Before (mmHg)   Blood Pressure After (mmHg)\n",
       "0            1                            130                           120\n",
       "1            2                            142                           135\n",
       "2            3                            120                           118\n",
       "3            4                            135                           127\n",
       "4            5                            148                           140\n",
       "..         ...                            ...                           ...\n",
       "95          96                            136                           129\n",
       "96          97                            143                           137\n",
       "97          98                            127                           123\n",
       "98          99                            139                           135\n",
       "99         100                            135                           130\n",
       "\n",
       "[100 rows x 3 columns]"
      ]
     },
     "execution_count": 8,
     "metadata": {},
     "output_type": "execute_result"
    }
   ],
   "source": [
    "data = pd.read_csv(\"Blood_Pressure_data.csv\")\n",
    "data"
   ]
  },
  {
   "cell_type": "code",
   "execution_count": 9,
   "metadata": {},
   "outputs": [
    {
     "data": {
      "text/plain": [
       "Patient ID                       29.011492\n",
       " Blood Pressure Before (mmHg)     6.598278\n",
       " Blood Pressure After (mmHg)      6.888022\n",
       "dtype: float64"
      ]
     },
     "execution_count": 9,
     "metadata": {},
     "output_type": "execute_result"
    }
   ],
   "source": [
    "# a.Measure the dispersion in both and interpret the results.\n",
    "data.std()"
   ]
  },
  {
   "cell_type": "code",
   "execution_count": 10,
   "metadata": {},
   "outputs": [
    {
     "data": {
      "text/plain": [
       "Patient ID                       841.666667\n",
       " Blood Pressure Before (mmHg)     43.537273\n",
       " Blood Pressure After (mmHg)      47.444848\n",
       "dtype: float64"
      ]
     },
     "execution_count": 10,
     "metadata": {},
     "output_type": "execute_result"
    }
   ],
   "source": [
    "data.var()"
   ]
  },
  {
   "cell_type": "code",
   "execution_count": 11,
   "metadata": {},
   "outputs": [
    {
     "data": {
      "text/plain": [
       "49.5"
      ]
     },
     "execution_count": 11,
     "metadata": {},
     "output_type": "execute_result"
    }
   ],
   "source": [
    "from scipy.stats import iqr\n",
    "iqr(data['Patient ID'])"
   ]
  },
  {
   "cell_type": "code",
   "execution_count": 12,
   "metadata": {},
   "outputs": [
    {
     "data": {
      "text/plain": [
       "12.0"
      ]
     },
     "execution_count": 12,
     "metadata": {},
     "output_type": "execute_result"
    }
   ],
   "source": [
    "iqr(data[' Blood Pressure After (mmHg)'])"
   ]
  },
  {
   "cell_type": "code",
   "execution_count": 13,
   "metadata": {},
   "outputs": [
    {
     "data": {
      "text/plain": [
       "11.25"
      ]
     },
     "execution_count": 13,
     "metadata": {},
     "output_type": "execute_result"
    }
   ],
   "source": [
    "iqr(data[' Blood Pressure Before (mmHg)'])"
   ]
  },
  {
   "cell_type": "code",
   "execution_count": 14,
   "metadata": {},
   "outputs": [
    {
     "data": {
      "text/plain": [
       "Patient ID                        50.50\n",
       " Blood Pressure Before (mmHg)    133.91\n",
       " Blood Pressure After (mmHg)     128.36\n",
       "dtype: float64"
      ]
     },
     "execution_count": 14,
     "metadata": {},
     "output_type": "execute_result"
    }
   ],
   "source": [
    "# b. Calculate mean and 5% confidence interval and plot it in a graph\n",
    "data.mean()"
   ]
  },
  {
   "cell_type": "code",
   "execution_count": 15,
   "metadata": {},
   "outputs": [
    {
     "name": "stderr",
     "output_type": "stream",
     "text": [
      "c:\\Users\\HP\\AppData\\Local\\Programs\\Python\\Python310\\lib\\site-packages\\numpy\\core\\fromnumeric.py:3472: FutureWarning: In a future version, DataFrame.mean(axis=None) will return a scalar mean over the entire DataFrame. To retain the old behavior, use 'frame.mean(axis=0)' or just 'frame.mean()'\n",
      "  return mean(axis=axis, dtype=dtype, out=out, **kwargs)\n"
     ]
    },
    {
     "data": {
      "image/png": "[encoded data removed]",
      "text/plain": [
       "<Figure size 640x480 with 1 Axes>"
      ]
     },
     "metadata": {},
     "output_type": "display_data"
    }
   ],
   "source": [
    "import matplotlib.pyplot as plt\n",
    "\n",
    "# Calculate mean\n",
    "mean = np.mean(data)\n",
    "\n",
    "# Calculate standard error\n",
    "std_error = np.std(data) / np.sqrt(len(data))\n",
    "\n",
    "# Calculate 5% confidence interval\n",
    "conf_interval = 1.96 * std_error  # 1.96 is the critical value for a 95% confidence level\n",
    "\n",
    "# Plotting\n",
    "plt.figure()\n",
    "plt.bar(0, mean, yerr=conf_interval, color='blue', alpha=0.7, align='center')\n",
    "plt.xticks([])\n",
    "plt.ylabel('Mean')\n",
    "plt.title('Mean with 5% Confidence Interval')\n",
    "plt.show()"
   ]
  },
  {
   "cell_type": "code",
   "execution_count": 16,
   "metadata": {},
   "outputs": [
    {
     "name": "stdout",
     "output_type": "stream",
     "text": [
      "Mean Absolute Deviation (MAD): Patient ID                       25.0000\n",
      " Blood Pressure Before (mmHg)     5.7118\n",
      " Blood Pressure After (mmHg)      5.9000\n",
      "dtype: float64\n",
      "Standard Deviation (SD): Patient ID                       28.866070\n",
      " Blood Pressure Before (mmHg)     6.565204\n",
      " Blood Pressure After (mmHg)      6.853495\n",
      "dtype: float64\n"
     ]
    },
    {
     "name": "stderr",
     "output_type": "stream",
     "text": [
      "c:\\Users\\HP\\AppData\\Local\\Programs\\Python\\Python310\\lib\\site-packages\\numpy\\core\\fromnumeric.py:3472: FutureWarning: In a future version, DataFrame.mean(axis=None) will return a scalar mean over the entire DataFrame. To retain the old behavior, use 'frame.mean(axis=0)' or just 'frame.mean()'\n",
      "  return mean(axis=axis, dtype=dtype, out=out, **kwargs)\n"
     ]
    }
   ],
   "source": [
    "# c. Calculate the Mean absolute deviation and Standard deviation and interpret the results.\n",
    "# Calculate Mean Absolute Deviation (MAD)\n",
    "mad = np.mean(np.abs(data - np.mean(data)))\n",
    "\n",
    "# Calculate Standard Deviation (SD)\n",
    "sd = np.std(data)\n",
    "\n",
    "# Interpretation\n",
    "print(\"Mean Absolute Deviation (MAD):\", mad)\n",
    "print(\"Standard Deviation (SD):\", sd)"
   ]
  },
  {
   "cell_type": "code",
   "execution_count": 17,
   "metadata": {},
   "outputs": [
    {
     "name": "stdout",
     "output_type": "stream",
     "text": [
      "Correlation Coefficient: 0.9779485966556021\n",
      "Correlation is significant at the 1% level.\n"
     ]
    }
   ],
   "source": [
    "# d. Calculate the correlation coefficient and check the significance of it at 1% level of significance.\n",
    "from scipy.stats import pearsonr\n",
    "x = data[' Blood Pressure After (mmHg)']\n",
    "y = data[' Blood Pressure Before (mmHg)']\n",
    "\n",
    "# Calculate correlation coefficient and p-value\n",
    "corr_coeff, p_value = pearsonr(x, y)\n",
    "\n",
    "# Print correlation coefficient\n",
    "print(\"Correlation Coefficient:\", corr_coeff)\n",
    "\n",
    "# Check significance at 1% level\n",
    "if p_value < 0.01:\n",
    "    print(\"Correlation is significant at the 1% level.\")\n",
    "else:\n",
    "    print(\"Correlation is not significant at the 1% level.\")\n"
   ]
  },
  {
   "attachments": {},
   "cell_type": "markdown",
   "metadata": {},
   "source": [
    "### Q-4. A group of 20 friends decide to play a game in which they each write a number between 1 and 20 on a slip of paper and put it into a hat. They then draw one slip of paper at random. What is the probability that the number on the slip of paper is a perfect square (i.e., 1, 4, 9, or 16)?\n",
    "\n",
    "**ANS:-**\n",
    "\n",
    "Total number of possible outcomes:<br>\n",
    "Since there are 20 slips of paper in the hat, the total number of possible outcomes is 20.<br>\n",
    "Number of favorable outcomes:<br>\n",
    "Out of the numbers 1 to 20, there are four perfect square numbers: 1, 4, 9, and 16.<br>\n",
    "Therefore, the number of favorable outcomes is 4.<br>\n",
    "Probability of drawing a perfect square:<br>\n",
    "The probability of an event is calculated by dividing the number of favorable outcomes by the total number of possible outcomes.<br>\n",
    "Probability = (Number of favorable outcomes) / (Total number of possible outcomes)<br>\n",
    "Probability = 4 / 20<br>\n",
    "Probability = 0.2<br>\n",
    "\n",
    "Hence, the probability that the number drawn from the hat is a perfect square is 0.2 or 20%."
   ]
  },
  {
   "attachments": {},
   "cell_type": "markdown",
   "metadata": {},
   "source": [
    "### Q-5. A certain city has two taxi companies: Company A has 80% of the taxis and Company B has 20% of the taxis. Company A's taxis have a 95% success rate for picking up passengers on time, while Company B's taxis have a 90% success rate. If a randomly selected taxi is late, what is the probability that it belongs to Company A?\n",
    "\n",
    "**ANS** \n",
    "\n",
    "To calculate the probability that a randomly selected taxi, which is late, belongs to Company A, we can use Bayes' theorem.<br>\n",
    "Let's define the events:<br>\n",
    "A: The taxi belongs to Company A.<br>\n",
    "B: The taxi is late.<br>\n",
    "\n",
    "We need to calculate P(A|B), which represents the probability that the taxi belongs to Company A given that it is late.\n",
    "\n",
    "According to Bayes' theorem:\n",
    "P(A|B) = (P(B|A) * P(A)) / P(B)\n",
    "\n",
    "P(B|A): The probability that the taxi is late given that it belongs to Company A. In this case, it is 1 - 0.95 = 0.05, as Company A has a 95% success rate for picking up passengers on time.\n",
    "\n",
    "P(A): The probability that the taxi belongs to Company A. Given that Company A has 80% of the taxis, P(A) = 0.8.\n",
    "\n",
    "P(B): The probability that the taxi is late. To calculate this, we need to consider the probabilities from both companies:\n",
    "P(B) = P(B|A) * P(A) + P(B|not A) * P(not A)\n",
    "\n",
    "P(B|not A): The probability that the taxi is late given that it does not belong to Company A. In this case, it is 1 - 0.90 = 0.10, as Company B has a 90% success rate for picking up passengers on time.\n",
    "P(not A): The probability that the taxi does not belong to Company A. Given that Company A has 80% of the taxis, P(not A) = 1 - P(A) = 1 - 0.8 = 0.2.\n",
    "\n",
    "Now, we can calculate P(B):\n",
    "P(B) = P(B|A) * P(A) + P(B|not A) * P(not A)\n",
    "= 0.05 * 0.8 + 0.10 * 0.2\n",
    "= 0.04 + 0.02\n",
    "= 0.06\n",
    "\n",
    "Finally, we can calculate P(A|B):\n",
    "P(A|B) = (P(B|A) * P(A)) / P(B)\n",
    "= (0.05 * 0.8) / 0.06\n",
    "= 0.04 / 0.06\n",
    "= 0.6667\n",
    "\n",
    "Therefore, the probability that a randomly selected taxi, which is late, belongs to Company A, is approximately 0.6667 or 66.67%."
   ]
  },
  {
   "attachments": {},
   "cell_type": "markdown",
   "metadata": {},
   "source": [
    "### Q-6. A pharmaceutical company is developing a drug that is supposed to reduce blood pressure. They conduct a clinical trial with 100 patients and record their blood pressure before and after taking the drug. The company wants to know if the change in blood pressure follows a normal distribution."
   ]
  },
  {
   "cell_type": "code",
   "execution_count": 18,
   "metadata": {},
   "outputs": [
    {
     "data": {
      "text/html": [
       "<div>\n",
       "<style scoped>\n",
       "    .dataframe tbody tr th:only-of-type {\n",
       "        vertical-align: middle;\n",
       "    }\n",
       "\n",
       "    .dataframe tbody tr th {\n",
       "        vertical-align: top;\n",
       "    }\n",
       "\n",
       "    .dataframe thead th {\n",
       "        text-align: right;\n",
       "    }\n",
       "</style>\n",
       "<table border=\"1\" class=\"dataframe\">\n",
       "  <thead>\n",
       "    <tr style=\"text-align: right;\">\n",
       "      <th></th>\n",
       "      <th>Patient ID</th>\n",
       "      <th>Blood Pressure Before (mmHg)</th>\n",
       "      <th>Blood Pressure After (mmHg)</th>\n",
       "    </tr>\n",
       "  </thead>\n",
       "  <tbody>\n",
       "    <tr>\n",
       "      <th>0</th>\n",
       "      <td>1</td>\n",
       "      <td>130</td>\n",
       "      <td>120</td>\n",
       "    </tr>\n",
       "    <tr>\n",
       "      <th>1</th>\n",
       "      <td>2</td>\n",
       "      <td>142</td>\n",
       "      <td>135</td>\n",
       "    </tr>\n",
       "    <tr>\n",
       "      <th>2</th>\n",
       "      <td>3</td>\n",
       "      <td>120</td>\n",
       "      <td>118</td>\n",
       "    </tr>\n",
       "    <tr>\n",
       "      <th>3</th>\n",
       "      <td>4</td>\n",
       "      <td>135</td>\n",
       "      <td>127</td>\n",
       "    </tr>\n",
       "    <tr>\n",
       "      <th>4</th>\n",
       "      <td>5</td>\n",
       "      <td>148</td>\n",
       "      <td>140</td>\n",
       "    </tr>\n",
       "  </tbody>\n",
       "</table>\n",
       "</div>"
      ],
      "text/plain": [
       "   Patient ID   Blood Pressure Before (mmHg)   Blood Pressure After (mmHg)\n",
       "0           1                            130                           120\n",
       "1           2                            142                           135\n",
       "2           3                            120                           118\n",
       "3           4                            135                           127\n",
       "4           5                            148                           140"
      ]
     },
     "execution_count": 18,
     "metadata": {},
     "output_type": "execute_result"
    }
   ],
   "source": [
    "data.head()"
   ]
  },
  {
   "cell_type": "code",
   "execution_count": 19,
   "metadata": {},
   "outputs": [
    {
     "name": "stdout",
     "output_type": "stream",
     "text": [
      "The change in blood pressure does not follow a normal distribution.\n"
     ]
    }
   ],
   "source": [
    "from scipy.stats import shapiro\n",
    "\n",
    "x = data[' Blood Pressure Before (mmHg)']\n",
    "y = data[' Blood Pressure After (mmHg)']\n",
    "\n",
    "# Calculate the change in blood pressure\n",
    "change_in_blood_pressure = y - x\n",
    "\n",
    "# Perform the Shapiro-Wilk test for normality\n",
    "statistic, p_value = shapiro(change_in_blood_pressure)\n",
    "\n",
    "# Check the significance level (usually 0.05) to determine if the data follows a normal distribution\n",
    "significance_level = 0.05\n",
    "if p_value > significance_level:\n",
    "    print(\"The change in blood pressure follows a normal distribution.\")\n",
    "else:\n",
    "    print(\"The change in blood pressure does not follow a normal distribution.\")"
   ]
  },
  {
   "attachments": {},
   "cell_type": "markdown",
   "metadata": {},
   "source": [
    "### Q-7. The equations of two lines of regression, obtained in a correlation analysis between variables X and Y are as follows: and . 2𝑋 + 3 − 8 = 0 2𝑌 + 𝑋 − 5 = 0 The variance of 𝑋 = 4 Find the\n",
    "* a. Variance of Y\n",
    "* b. Coefficient of determination of C and Y\n",
    "* c. Standard error of estimate of X on Y and of Y on X.\n",
    "\n",
    "**ANS**\n",
    "\n",
    "Equation 1: 2𝑋 + 3 − 8 = 0\n",
    "Simplifying, we have: 2𝑋 - 5 = 0\n",
    "Thus, the equation of the regression line for X is: 𝑋 = 2.5\n",
    "\n",
    "Equation 2: 2𝑌 + 𝑋 − 5 = 0\n",
    "Since we have the equation for X, we can substitute it into Equation 2:\n",
    "2𝑌 + 2.5 − 5 = 0\n",
    "Simplifying, we have: 2𝑌 - 2.5 = 0\n",
    "Thus, the equation of the regression line for Y is: 𝑌 = 1.25\n",
    "\n",
    "Given that the variance of X is 4, we can proceed with the calculations:\n",
    "\n",
    "* a. Variance of Y:\n",
    "Since the regression line for Y is 𝑌 = 1.25 (a constant), the variance of Y is 0.\n",
    "\n",
    "* b. Coefficient of determination of X and Y:\n",
    "The coefficient of determination (R^2) represents the proportion of the variance in the dependent variable that can be explained by the independent variable.\n",
    "\n",
    "In this case, since the regression line for Y is a constant, the coefficient of determination (R^2) for X and Y is 0, indicating that X does not explain any variance in Y.\n",
    "\n",
    "* c. Standard error of estimate of X on Y and of Y on X:\n",
    "The standard error of estimate measures the average distance between the observed data points and the predicted values from the regression line.\n",
    "\n",
    "For the standard error of estimate of X on Y, we can use the formula:\n",
    "Standard error of estimate of X on Y = √(variance of Y)\n",
    "\n",
    "Since the variance of Y is 0, the standard error of estimate of X on Y is also 0.\n",
    "\n",
    "For the standard error of estimate of Y on X, we can use the formula:\n",
    "Standard error of estimate of Y on X = √(1 - R^2) * √(variance of Y)\n",
    "\n",
    "Since R^2 is 0 and the variance of Y is 0, the standard error of estimate of Y on X is also 0.\n",
    "\n",
    "Therefore:\n",
    "* a. Variance of Y = 0\n",
    "* b. Coefficient of determination of X and Y = 0\n",
    "* c. Standard error of estimate of X on Y = 0\n",
    "Standard error of estimate of Y on X = 0"
   ]
  },
  {
   "attachments": {},
   "cell_type": "markdown",
   "metadata": {},
   "source": [
    "### Q-8. The anxiety levels of 10 participants were measured before and after a new therapy.The scores are not normally distributed. Use the Wilcoxon signed-rank test to test whether the therapy had a significant effect on anxiety levels. The data is given below: Participant Before therapy After therapy Difference"
   ]
  },
  {
   "cell_type": "code",
   "execution_count": 20,
   "metadata": {},
   "outputs": [
    {
     "data": {
      "text/html": [
       "<div>\n",
       "<style scoped>\n",
       "    .dataframe tbody tr th:only-of-type {\n",
       "        vertical-align: middle;\n",
       "    }\n",
       "\n",
       "    .dataframe tbody tr th {\n",
       "        vertical-align: top;\n",
       "    }\n",
       "\n",
       "    .dataframe thead th {\n",
       "        text-align: right;\n",
       "    }\n",
       "</style>\n",
       "<table border=\"1\" class=\"dataframe\">\n",
       "  <thead>\n",
       "    <tr style=\"text-align: right;\">\n",
       "      <th></th>\n",
       "      <th>Participant</th>\n",
       "      <th>Before therapy</th>\n",
       "      <th>After Therapy</th>\n",
       "      <th>Difference</th>\n",
       "    </tr>\n",
       "  </thead>\n",
       "  <tbody>\n",
       "    <tr>\n",
       "      <th>0</th>\n",
       "      <td>1</td>\n",
       "      <td>10</td>\n",
       "      <td>7</td>\n",
       "      <td>-3</td>\n",
       "    </tr>\n",
       "    <tr>\n",
       "      <th>1</th>\n",
       "      <td>2</td>\n",
       "      <td>8</td>\n",
       "      <td>6</td>\n",
       "      <td>-2</td>\n",
       "    </tr>\n",
       "    <tr>\n",
       "      <th>2</th>\n",
       "      <td>3</td>\n",
       "      <td>12</td>\n",
       "      <td>10</td>\n",
       "      <td>-2</td>\n",
       "    </tr>\n",
       "    <tr>\n",
       "      <th>3</th>\n",
       "      <td>4</td>\n",
       "      <td>15</td>\n",
       "      <td>12</td>\n",
       "      <td>-3</td>\n",
       "    </tr>\n",
       "    <tr>\n",
       "      <th>4</th>\n",
       "      <td>5</td>\n",
       "      <td>6</td>\n",
       "      <td>5</td>\n",
       "      <td>-1</td>\n",
       "    </tr>\n",
       "  </tbody>\n",
       "</table>\n",
       "</div>"
      ],
      "text/plain": [
       "   Participant  Before therapy  After Therapy  Difference\n",
       "0            1              10              7          -3\n",
       "1            2               8              6          -2\n",
       "2            3              12             10          -2\n",
       "3            4              15             12          -3\n",
       "4            5               6              5          -1"
      ]
     },
     "execution_count": 20,
     "metadata": {},
     "output_type": "execute_result"
    }
   ],
   "source": [
    "data1 = pd.read_csv('Therapy.csv')\n",
    "data1.head()"
   ]
  },
  {
   "cell_type": "code",
   "execution_count": 21,
   "metadata": {},
   "outputs": [
    {
     "name": "stdout",
     "output_type": "stream",
     "text": [
      "The therapy had a significant effect on anxiety levels.\n"
     ]
    }
   ],
   "source": [
    "from scipy.stats import wilcoxon\n",
    "# Perform the Wilcoxon signed-rank test\n",
    "statistic, p_value = wilcoxon(data1['Difference'])\n",
    "\n",
    "# Check the significance level (usually 0.05) to determine if the therapy had a significant effect\n",
    "significance_level = 0.05\n",
    "if p_value < significance_level:\n",
    "    print(\"The therapy had a significant effect on anxiety levels.\")\n",
    "else:\n",
    "    print(\"The therapy did not have a significant effect on anxiety levels.\")\n"
   ]
  },
  {
   "attachments": {},
   "cell_type": "markdown",
   "metadata": {},
   "source": [
    "### Q-9. Given the score of students in multiple exams Test the hypothesis that the mean scores of all the students are the same. If not, name the student with the highest score."
   ]
  },
  {
   "cell_type": "code",
   "execution_count": 22,
   "metadata": {},
   "outputs": [
    {
     "data": {
      "text/html": [
       "<div>\n",
       "<style scoped>\n",
       "    .dataframe tbody tr th:only-of-type {\n",
       "        vertical-align: middle;\n",
       "    }\n",
       "\n",
       "    .dataframe tbody tr th {\n",
       "        vertical-align: top;\n",
       "    }\n",
       "\n",
       "    .dataframe thead th {\n",
       "        text-align: right;\n",
       "    }\n",
       "</style>\n",
       "<table border=\"1\" class=\"dataframe\">\n",
       "  <thead>\n",
       "    <tr style=\"text-align: right;\">\n",
       "      <th></th>\n",
       "      <th>Name</th>\n",
       "      <th>Exam1</th>\n",
       "      <th>Exam2</th>\n",
       "      <th>Final Exam</th>\n",
       "    </tr>\n",
       "  </thead>\n",
       "  <tbody>\n",
       "    <tr>\n",
       "      <th>0</th>\n",
       "      <td>Karan</td>\n",
       "      <td>85</td>\n",
       "      <td>90</td>\n",
       "      <td>92</td>\n",
       "    </tr>\n",
       "    <tr>\n",
       "      <th>1</th>\n",
       "      <td>Deepa</td>\n",
       "      <td>70</td>\n",
       "      <td>80</td>\n",
       "      <td>85</td>\n",
       "    </tr>\n",
       "    <tr>\n",
       "      <th>2</th>\n",
       "      <td>Karthik</td>\n",
       "      <td>90</td>\n",
       "      <td>85</td>\n",
       "      <td>88</td>\n",
       "    </tr>\n",
       "    <tr>\n",
       "      <th>3</th>\n",
       "      <td>Chandan</td>\n",
       "      <td>75</td>\n",
       "      <td>70</td>\n",
       "      <td>75</td>\n",
       "    </tr>\n",
       "    <tr>\n",
       "      <th>4</th>\n",
       "      <td>Jeevan</td>\n",
       "      <td>95</td>\n",
       "      <td>92</td>\n",
       "      <td>96</td>\n",
       "    </tr>\n",
       "  </tbody>\n",
       "</table>\n",
       "</div>"
      ],
      "text/plain": [
       "      Name  Exam1  Exam2  Final Exam\n",
       "0    Karan     85     90          92\n",
       "1    Deepa     70     80          85\n",
       "2  Karthik     90     85          88\n",
       "3  Chandan     75     70          75\n",
       "4   Jeevan     95     92          96"
      ]
     },
     "execution_count": 22,
     "metadata": {},
     "output_type": "execute_result"
    }
   ],
   "source": [
    "data2 = pd.read_csv('Student_data.csv')\n",
    "data2.head()"
   ]
  },
  {
   "cell_type": "code",
   "execution_count": 23,
   "metadata": {},
   "outputs": [
    {
     "name": "stdout",
     "output_type": "stream",
     "text": [
      "The mean scores of all the students are not the same.\n",
      "The student with the highest score is: Jeevan\n"
     ]
    }
   ],
   "source": [
    "import numpy as np\n",
    "from scipy.stats import f_oneway\n",
    "\n",
    "Karan = np.array([85, 90, 92])  \n",
    "Deepa = np.array([70, 80, 85])  \n",
    "Karthik = np.array([90, 85, 88])  \n",
    "Chandan = np.array([75, 70, 75])\n",
    "Jeevan = np.array([95, 92, 96])\n",
    "# Perform the ANOVA test\n",
    "statistic, p_value = f_oneway(Karan,Deepa,Karthik,Chandan,Jeevan)\n",
    "\n",
    "# Check the significance level (usually 0.05) to determine if the mean scores are the same\n",
    "significance_level = 0.05\n",
    "if p_value > significance_level:\n",
    "    print(\"The mean scores of all the students are the same.\")\n",
    "else:\n",
    "    print(\"The mean scores of all the students are not the same.\")\n",
    "\n",
    "# If the mean scores are not the same, you can find the student with the highest score\n",
    "if p_value <= significance_level:\n",
    "    scores = [Karan,Deepa,Karthik,Chandan,Jeevan]\n",
    "    student_names = [\"Karan\",\"Deepa\",\"Karthik\",\"Chandan\",\"Jeevan\"]\n",
    "    highest_score_student = student_names[np.argmax([np.mean(score) for score in scores])]\n",
    "    print(\"The student with the highest score is:\", highest_score_student)"
   ]
  },
  {
   "attachments": {},
   "cell_type": "markdown",
   "metadata": {},
   "source": [
    "### Q-10. A factory produces light bulbs, and the probability of a bulb being defective is 0.05. The factory produces a large batch of 500 light bulbs.\n",
    "* a. What is the probability that exactly 20 bulbs are defective?\n",
    "* b. What is the probability that at least 10 bulbs are defective?\n",
    "* c. What is the probability that at max 15 bulbs are defective?\n",
    "* d. On average, how many defective bulbs would you expect in a batch of 500?\n",
    "\n",
    "**ANS** \n",
    "\n",
    "To solve these probability questions, we can use the binomial probability formula:\n",
    "\n",
    "P(X = k) = (n choose k) * p^k * (1 - p)^(n - k)\n",
    "\n",
    "where:\n",
    "\n",
    "P(X = k) is the probability of exactly k successes (defective bulbs)<br>\n",
    "n is the number of trials (total number of light bulbs)<br>\n",
    "k is the number of successes (number of defective bulbs)<br>\n",
    "p is the probability of success in a single trial (probability of a bulb being defective)<br>\n",
    "(n choose k) is the binomial coefficient, calculated as n! / (k! * (n - k)!)<br>\n",
    "* a. What is the probability that exactly 20 bulbs are defective?\n",
    "\n",
    "Using the binomial probability formula:\n",
    "P(X = 20) = (500 choose 20) * (0.05^20) * (0.95^(500-20))\n",
    "\n",
    "* b. What is the probability that at least 10 bulbs are defective?\n",
    "\n",
    "To calculate the probability of at least 10 defective bulbs, we need to sum the probabilities of 10 or more defective bulbs:\n",
    "P(X >= 10) = P(X = 10) + P(X = 11) + ... + P(X = 500)\n",
    "\n",
    "* c. What is the probability that at max 15 bulbs are defective?\n",
    "\n",
    "To calculate the probability of at most 15 defective bulbs, we need to sum the probabilities of 15 or fewer defective bulbs:\n",
    "P(X <= 15) = P(X = 0) + P(X = 1) + ... + P(X = 15)\n",
    "\n",
    "* d. On average, how many defective bulbs would you expect in a batch of 500?\n",
    "\n",
    "The average (expected value) can be calculated using the formula:\n",
    "E(X) = n * p\n",
    "\n",
    "E(X) represents the expected number of successes (defective bulbs) in a batch of 500 light bulbs.\n"
   ]
  },
  {
   "attachments": {},
   "cell_type": "markdown",
   "metadata": {},
   "source": [
    "### Q-11. Given the data of a feature contributing to different classes\n",
    "**a.** Check whether the distribution of all the classes are the same or not.<br>\n",
    "**b.** Check for the equality of variance<br>\n",
    "**c.** Which amount LDA and QDA would perform better on this data for classification and why.<br>\n",
    "**d.** Check the equality of mean for between all the classes."
   ]
  },
  {
   "cell_type": "code",
   "execution_count": 24,
   "metadata": {},
   "outputs": [
    {
     "name": "stdout",
     "output_type": "stream",
     "text": [
      "p-value: 2.3565868442706738e-08\n",
      "The distributions are not the same.\n"
     ]
    }
   ],
   "source": [
    "#a. Check whether the distribution of all the classes are the same or not.\n",
    "from scipy.stats import f_oneway\n",
    "a = data[\" Blood Pressure After (mmHg)\"]\n",
    "b = data[' Blood Pressure Before (mmHg)']\n",
    "\n",
    "# Perform one-way ANOVA test\n",
    "f_value, p_value = f_oneway(a,b)\n",
    "\n",
    "# Print the p-value\n",
    "print(\"p-value:\", p_value)\n",
    "\n",
    "# Check if the distributions are the same or not\n",
    "alpha = 0.05  # Significance level\n",
    "if p_value < alpha:\n",
    "    print(\"The distributions are not the same.\")\n",
    "else:\n",
    "    print(\"The distributions are the same.\")\n"
   ]
  },
  {
   "cell_type": "code",
   "execution_count": 25,
   "metadata": {},
   "outputs": [
    {
     "name": "stdout",
     "output_type": "stream",
     "text": [
      "p-value: 0.6715080090945493\n",
      "The variances are equal.\n"
     ]
    }
   ],
   "source": [
    "#b. Check for the equality of variance\n",
    "from scipy.stats import levene\n",
    "a = data[\" Blood Pressure After (mmHg)\"]\n",
    "b = data[' Blood Pressure Before (mmHg)']\n",
    "\n",
    "# Perform Levene's test\n",
    "statistic, p_value = levene(a, b)\n",
    "\n",
    "# Print the p-value\n",
    "print(\"p-value:\", p_value)\n",
    "\n",
    "# Check if the variances are equal or not\n",
    "alpha = 0.05  # Significance level\n",
    "if p_value < alpha:\n",
    "    print(\"The variances are not equal.\")\n",
    "else:\n",
    "    print(\"The variances are equal.\")\n"
   ]
  },
  {
   "cell_type": "code",
   "execution_count": 27,
   "metadata": {},
   "outputs": [],
   "source": [
    "# Separate the data by patient Id labels\n",
    "class_labels = data['Patient ID'].unique()\n",
    "class_data = {label: data[data['Patient ID'] == label] for label in class_labels}"
   ]
  },
  {
   "cell_type": "code",
   "execution_count": 28,
   "metadata": {},
   "outputs": [
    {
     "name": "stdout",
     "output_type": "stream",
     "text": [
      "LDA would perform better for classification.\n"
     ]
    }
   ],
   "source": [
    "# c. Which amount LDA and QDA would perform better on this data for classification and why.\n",
    "lda_scores = {}\n",
    "qda_scores = {}\n",
    "\n",
    "for label in class_labels:\n",
    "    class_samples_before = class_data[label][' Blood Pressure Before (mmHg)']\n",
    "    class_samples_after = class_data[label][' Blood Pressure After (mmHg)']\n",
    "    lda_scores[label] = np.mean(class_samples_before) + np.mean(class_samples_after)\n",
    "    qda_scores[label] = np.mean(np.square(class_samples_before - np.mean(class_samples_before))) + \\\n",
    "                         np.mean(np.square(class_samples_after - np.mean(class_samples_after)))\n",
    "\n",
    "if np.mean(list(lda_scores.values())) > np.mean(list(qda_scores.values())):\n",
    "    print(\"LDA would perform better for classification.\")\n",
    "else:\n",
    "    print(\"QDA would perform better for classification.\")"
   ]
  },
  {
   "cell_type": "code",
   "execution_count": 30,
   "metadata": {},
   "outputs": [
    {
     "name": "stdout",
     "output_type": "stream",
     "text": [
      "p-value: 2.3565868442706738e-08\n",
      "The means are not equal.\n"
     ]
    }
   ],
   "source": [
    "# d. Check the equality of mean for between all the classes.\n",
    "from scipy.stats import f_oneway\n",
    "a = data[\" Blood Pressure After (mmHg)\"]\n",
    "b = data[' Blood Pressure Before (mmHg)']\n",
    "\n",
    "# Perform one-way ANOVA test\n",
    "f_value, p_value = f_oneway(a,b)\n",
    "\n",
    "# Print the p-value\n",
    "print(\"p-value:\", p_value)\n",
    "\n",
    "# Check if the distributions are the same or not\n",
    "alpha = 0.05  # Significance level\n",
    "if p_value < alpha:\n",
    "    print(\"The means are not equal.\")\n",
    "else:\n",
    "    print(\"The means are the equal.\")"
   ]
  },
  {
   "attachments": {},
   "cell_type": "markdown",
   "metadata": {},
   "source": [
    "### Q-12. A pharmaceutical company develops a new drug and wants to compare its effectiveness against a standard drug for treating a particular condition. They conduct a study with two groups: Group A receives the new drug, and Group B receives the standard drug. The company measures the improvement in a specific symptom for both groups after a 4-week treatment period.\n",
    "* a. The company collects data from 30 patients in each group and calculates the mean improvement score and the standard deviation of improvement for each group. The mean improvement score for Group A is 2.5 with a standard deviation of 0.8, while the mean improvement score for Group B is 2.2 with a standard deviation of 0.6. Conduct a t-test to determine if there is a significant difference in the mean improvement scores between the two groups. Use a significance level of 0.05.\n",
    "* b. Based on the t-test results, state whether the null hypothesis should be rejected or not. Provide a conclusion in the context of the study.\n",
    "\n",
    "**ANS** \n",
    "\n",
    "To conduct a t-test and determine if there is a significant difference in the mean improvement scores between Group A and Group B, we can follow these steps:\n",
    "\n",
    "* a. Calculate the t-value and degrees of freedom:\n",
    "\n",
    "* Calculate the difference in means between the two groups: mean_A - mean_B.\n",
    "* Calculate the standard error of the difference in means: sqrt((squared_std_A / n_A) + (squared_std_B / n_B)).\n",
    "* Calculate the t-value: (mean_A - mean_B) / standard_error.\n",
    "* Calculate the degrees of freedom: n_A + n_B - 2.\n",
    "* b. Determine the critical t-value:\n",
    "\n",
    "Determine the critical t-value at the chosen significance level (0.05) and degrees of freedom. This can be obtained from a t-table or using statistical software.\n",
    "* c. Compare the calculated t-value with the critical t-value:\n",
    "\n",
    "If the calculated t-value is greater than the critical t-value, we reject the null hypothesis.\n",
    "If the calculated t-value is less than or equal to the critical t-value, we fail to reject the null hypothesis.\n",
    "* d. State the conclusion:\n",
    "\n",
    "If the null hypothesis is rejected, it suggests that there is a significant difference in the mean improvement scores between the two groups.\n",
    "If the null hypothesis is not rejected, it suggests that there is no significant difference in the mean improvement scores between the two groups.\n",
    "In the context of the study:\n",
    "\n",
    "* a. Calculating the t-value and degrees of freedom:\n",
    "\n",
    "* Difference in means: 2.5 - 2.2 = 0.3\n",
    "* Standard error of the difference in means: sqrt((0.8^2 / 30) + (0.6^2 / 30))\n",
    "* Calculated t-value: (0.3) / (standard_error)\n",
    "* Degrees of freedom: 30 + 30 - 2\n",
    "* b. Determining the critical t-value:\n",
    "\n",
    "With a significance level of 0.05 and degrees of freedom, we can obtain the critical t-value from a t-table or using statistical software.\n",
    "* c. Comparing the calculated t-value with the critical t-value:\n",
    "\n",
    "If the calculated t-value is greater than the critical t-value, we reject the null hypothesis.\n",
    "If the calculated t-value is less than or equal to the critical t-value, we fail to reject the null hypothesis.\n",
    "* d. Stating the conclusion:\n",
    "\n",
    "Based on the t-test results, if the calculated t-value is greater than the critical t-value, we would reject the null hypothesis, indicating that there is a significant difference in the mean improvement scores between Group A and Group B. Conversely, if the calculated t-value is less than or equal to the critical t-value, we would fail to reject the null hypothesis, suggesting that there is no significant difference in the mean improvement scores between the two groups."
   ]
  },
  {
   "cell_type": "code",
   "execution_count": 31,
   "metadata": {},
   "outputs": [
    {
     "name": "stdout",
     "output_type": "stream",
     "text": [
      "Fail to reject the null hypothesis\n",
      "There is no significant difference in the mean improvement scores between Group A and Group B.\n",
      "\n",
      "Calculated t-value: 1.6431676725154976\n",
      "p-value: 0.10575916705583671\n",
      "Critical t-value: 2.0017174830120923\n"
     ]
    }
   ],
   "source": [
    "import scipy.stats as stats\n",
    "\n",
    "# Given\n",
    "mean_A = 2.5\n",
    "std_A = 0.8\n",
    "n_A = 30\n",
    "\n",
    "mean_B = 2.2\n",
    "std_B = 0.6\n",
    "n_B = 30\n",
    "\n",
    "# t-test\n",
    "t, p_value = stats.ttest_ind_from_stats(mean_A, std_A, n_A, mean_B, std_B, n_B)\n",
    "\n",
    "# Set significance level\n",
    "alpha = 0.05\n",
    "\n",
    "# Comparing t-value with critical t-value\n",
    "critical_value = stats.t.ppf(1 - alpha/2, n_A + n_B - 2)\n",
    "\n",
    "# Checking for null hypothesis should be rejected or not\n",
    "if abs(t) > critical_value:\n",
    "    print(\"Reject the null hypothesis\")\n",
    "    print(\"There is a significant difference in the mean improvement scores between Group A and Group B.\")\n",
    "else:\n",
    "    print(\"Fail to reject the null hypothesis\")\n",
    "    print(\"There is no significant difference in the mean improvement scores between Group A and Group B.\\n\")\n",
    "    \n",
    "# calculated t-value, p-value, and critical t-value\n",
    "print(\"Calculated t-value:\", t)\n",
    "print(\"p-value:\", p_value)\n",
    "print(\"Critical t-value:\", critical_value)"
   ]
  },
  {
   "cell_type": "code",
   "execution_count": null,
   "metadata": {},
   "outputs": [],
   "source": []
  }
 ],
 "metadata": {
  "kernelspec": {
   "display_name": "Python 3",
   "language": "python",
   "name": "python3"
  },
  "language_info": {
   "codemirror_mode": {
    "name": "ipython",
    "version": 3
   },
   "file_extension": ".py",
   "mimetype": "text/x-python",
   "name": "python",
   "nbconvert_exporter": "python",
   "pygments_lexer": "ipython3",
   "version": "3.10.0"
  },
  "orig_nbformat": 4
 },
 "nbformat": 4,
 "nbformat_minor": 2
}
